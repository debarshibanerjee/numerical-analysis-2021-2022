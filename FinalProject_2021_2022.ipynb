{
 "cells": [
  {
   "cell_type": "code",
   "execution_count": 1,
   "id": "3fe94688",
   "metadata": {
    "id": "3fe94688"
   },
   "outputs": [],
   "source": [
    "%matplotlib inline\n",
    "import numpy as np\n",
    "import matplotlib.pyplot as plt\n",
    "from scipy.linalg import solve_triangular\n",
    "from scipy.linalg import lu"
   ]
  },
  {
   "cell_type": "markdown",
   "id": "8184faab",
   "metadata": {
    "id": "8184faab"
   },
   "source": [
    "Consider the following one-dimensional PDE:\n",
    "$$\n",
    "-u_{xx}(x) = f(x)\\quad\\mathrm{ in }\\ \\Omega = (0, \\pi)\n",
    "$$\n",
    "$$\n",
    "u(x) = 0, \\quad\\mathrm{ on }\\ \\partial\\Omega = \\{0, \\pi\\}\n",
    "$$\n",
    "\n",
    "Given the following $4^{th}$ order finite difference approximation of the second order derivative:\n",
    "\n",
    "$$u_{xx}(x_i) = \\frac{-u_{i-2}+16u_{i-1}-30u_i+16u_{i+1}-u_{i+2}}{12h^2}$$\n",
    "\n",
    "Implement a function that given the domain interval, the forcing function, the number of discretization points, the boundary conditions, returns the matrix $A$ and the the right hand side $b$."
   ]
  },
  {
   "cell_type": "code",
   "execution_count": 2,
   "id": "1c562f13",
   "metadata": {
    "id": "1c562f13"
   },
   "outputs": [],
   "source": [
    "def finDif(omega,f,n,bc):\n",
    "    h = (omega[1] - omega[0]) / (n)\n",
    "    \n",
    "    # Part for solving the matrix = A\n",
    "    coeff_1 = 1*np.ones((n-2,))\n",
    "    coeff_2 = -16*np.ones((n-1,))\n",
    "    coeff_3 = 30*np.ones((n,))\n",
    "    \n",
    "    #A = np.zeros((n,n))\n",
    "    \n",
    "    A = (np.diag(coeff_1, -2) + np.diag(coeff_2, -1) + np.diag(coeff_3, 0)\n",
    "        + np.diag(coeff_2, +1) + np.diag(coeff_1, +2))\n",
    "    \n",
    "    A /= 12.*h*h\n",
    "    \n",
    "    # Part for solving the RHS = b\n",
    "    x = np.linspace(omega[0], omega[1], n)\n",
    "    b = f(x)\n",
    "    \n",
    "    # Boundary conditions\n",
    "    A[0,:] = 0\n",
    "    A[:,0] = 0\n",
    "    A[-1,:] = 0\n",
    "    A[:,-1] = 0\n",
    "    A[0,0] = A[-1,-1] = 1\n",
    "    b[0] = bc[0]\n",
    "    b[-1] = bc[1]\n",
    "    \n",
    "    return A, b"
   ]
  },
  {
   "cell_type": "markdown",
   "id": "c21bb21e",
   "metadata": {
    "id": "c21bb21e"
   },
   "source": [
    "Call the function using:"
   ]
  },
  {
   "cell_type": "code",
   "execution_count": 3,
   "id": "23af8831",
   "metadata": {
    "id": "23af8831"
   },
   "outputs": [],
   "source": [
    "omega = [0,np.pi]\n",
    "f = lambda x : np.sin(x)\n",
    "n=100\n",
    "bc = [0,0]\n",
    "A, b = finDif(omega, f, n, bc)\n",
    "\n",
    "#print(A)\n",
    "#print(b)\n",
    "\n",
    "# Solve the linear system using numpy\n",
    "xx = np.linspace(omega[0], omega[1], n)\n",
    "#fx = np.sin(xx)\n",
    "#A1 = A.copy()\n",
    "#u = np.linalg.solve(A1, fx)\n",
    "u_ex = np.sin(xx)\n",
    "\n",
    "# Plot the FD and exact solution\n",
    "#_ = plt.plot(xx,u,'ro',label='estimated solution')\n",
    "#_ = plt.plot(xx,u_ex,'go',label='exact solution')\n",
    "#plt.legend()"
   ]
  },
  {
   "cell_type": "markdown",
   "id": "4f8a7c6f",
   "metadata": {
    "id": "4f8a7c6f"
   },
   "source": [
    "Implement two functions that compute the LU and the Cholesky factorization of the system matrix $A$"
   ]
  },
  {
   "cell_type": "code",
   "execution_count": 4,
   "id": "47468a37",
   "metadata": {
    "id": "47468a37"
   },
   "outputs": [],
   "source": [
    "def LU(A):\n",
    "    A = A.copy()\n",
    "    N=len(A)\n",
    "    \n",
    "    for k in range(N-1):\n",
    "        if (abs(A[k,k]) < 1e-15):\n",
    "            raise RuntimeError(\"Null pivot\")\n",
    "            \n",
    "        A[k+1:N,k] /= A[k,k]\n",
    "        \n",
    "        for j in range(k+1,N):\n",
    "            A[k+1:N,j] -= A[k+1:N,k]*A[k,j]\n",
    "    \n",
    "    L=np.tril(A)\n",
    "    \n",
    "    for i in range(N):\n",
    "        L[i,i]=1.0\n",
    "        \n",
    "    U = np.triu(A)\n",
    "    return L, U\n",
    "\n",
    "L, U = LU(A)"
   ]
  },
  {
   "cell_type": "code",
   "execution_count": 5,
   "id": "193ebfed",
   "metadata": {
    "id": "193ebfed"
   },
   "outputs": [],
   "source": [
    "def cholesky(A):\n",
    "    A = A.copy()\n",
    "    N = len(A)\n",
    "    \n",
    "    for k in range(N-1):\n",
    "        A[k,k] = np.sqrt(A[k,k])\n",
    "        A[k+1:N,k] = A[k+1:N,k]/A[k,k]\n",
    "        \n",
    "        for j in range(k+1,N):\n",
    "            A[j:N,j] = A[j:N,j] - A[j:N,k]*A[j,k]\n",
    "        \n",
    "    A[-1,-1] = np.sqrt(A[-1,-1])\n",
    "    L=np.tril(A)\n",
    "    return L, L.transpose()\n",
    "\n",
    "HT, H = cholesky(A)"
   ]
  },
  {
   "cell_type": "markdown",
   "id": "41eb8436",
   "metadata": {
    "id": "41eb8436"
   },
   "source": [
    "Implement forward and backward substitution functions to exploit the developed factorization methods to solve the derived linear system of equations."
   ]
  },
  {
   "cell_type": "code",
   "execution_count": 6,
   "id": "019cf0df",
   "metadata": {
    "id": "019cf0df"
   },
   "outputs": [],
   "source": [
    "def L_solve(L,rhs):\n",
    "    x = np.zeros_like(rhs)\n",
    "    N = len(L)\n",
    "        \n",
    "    x[0] = rhs[0]/L[0,0]\n",
    "    \n",
    "    for i in range(1,N):\n",
    "        x[i] = (rhs[i] - np.dot(L[i, 0:i], x[0:i]))/L[i,i]\n",
    "        \n",
    "    return x"
   ]
  },
  {
   "cell_type": "code",
   "execution_count": 7,
   "id": "26ce17c4",
   "metadata": {
    "id": "26ce17c4"
   },
   "outputs": [],
   "source": [
    "def U_solve(U,rhs):\n",
    "    x = np.zeros_like(rhs)\n",
    "    N = len(U)\n",
    "    \n",
    "    x[-1] = rhs[-1]/L[-1,-1]\n",
    "    \n",
    "    for i in reversed(range(N-1)):\n",
    "        x[i] = (rhs[i] - np.dot(U[i, i+1:N], x[i+1:N]))/U[i,i]\n",
    "\n",
    "    return x"
   ]
  },
  {
   "cell_type": "markdown",
   "id": "08ac9ba1",
   "metadata": {
    "id": "08ac9ba1"
   },
   "source": [
    "Solve the derived linear system using the implemented functions and plot the computed solution:"
   ]
  },
  {
   "cell_type": "code",
   "execution_count": 8,
   "id": "a7f45d96-c397-48fc-975a-83e6d615c76c",
   "metadata": {
    "id": "7c1de4f3"
   },
   "outputs": [
    {
     "data": {
      "text/plain": [
       "<matplotlib.legend.Legend at 0x7fc0afef50a0>"
      ]
     },
     "execution_count": 8,
     "metadata": {},
     "output_type": "execute_result"
    },
    {
     "data": {
      "image/png": "[encoded data removed]",
      "text/plain": [
       "<Figure size 432x288 with 1 Axes>"
      ]
     },
     "metadata": {
      "needs_background": "light"
     },
     "output_type": "display_data"
    }
   ],
   "source": [
    "xx = np.linspace(omega[0], omega[1], n)\n",
    "\n",
    "w = L_solve(L,b)\n",
    "u = U_solve(U,w)\n",
    "\n",
    "plt.title(\"LU Factorization\")\n",
    "_ = plt.plot(xx,u,'ro',label='estimated solution')\n",
    "_ = plt.plot(xx,u_ex, 'bo',label='exact solution')\n",
    "plt.legend()"
   ]
  },
  {
   "cell_type": "code",
   "execution_count": 9,
   "id": "c9006941-fdbd-434d-a717-c6d88495e8a2",
   "metadata": {
    "id": "7c1de4f3"
   },
   "outputs": [
    {
     "data": {
      "text/plain": [
       "<matplotlib.legend.Legend at 0x7fc0af6623d0>"
      ]
     },
     "execution_count": 9,
     "metadata": {},
     "output_type": "execute_result"
    },
    {
     "data": {
      "image/png": "[encoded data removed]",
      "text/plain": [
       "<Figure size 432x288 with 1 Axes>"
      ]
     },
     "metadata": {
      "needs_background": "light"
     },
     "output_type": "display_data"
    }
   ],
   "source": [
    "xx = np.linspace(omega[0], omega[1], n)\n",
    "\n",
    "w = L_solve(HT,b)\n",
    "u = U_solve(H,w)\n",
    "\n",
    "plt.title(\"Cholesky Factorization\")\n",
    "_ = plt.plot(xx,u,'ro',label='estimated solution')\n",
    "_ = plt.plot(xx,u_ex, 'co',label='exact solution')\n",
    "plt.legend()"
   ]
  },
  {
   "cell_type": "markdown",
   "id": "62cdfe65",
   "metadata": {
    "id": "62cdfe65"
   },
   "source": [
    "Considering the new domain $\\Omega = (0,1)$ and the forcing term $f(x) = x(1-x)$ with B.C. $u(x) = 0$, on $\\partial \\Omega = {0,1}$ produce a plot and a table where you show the decay of the error w.r.t. the number of grid points.\n",
    "(The analytical solution for the above problems is $u_{an} = \\frac{x^4}{12} - \\frac{x^3}{6} + \\frac{x}{12}$)"
   ]
  },
  {
   "cell_type": "code",
   "execution_count": 10,
   "id": "35a88c3b-4bcd-4c20-8e26-0655836cde60",
   "metadata": {
    "id": "91212afb"
   },
   "outputs": [],
   "source": [
    "def error_analysis(f,bc,omega,n_range):\n",
    "    error=[]\n",
    "    for i in n_range:\n",
    "        x_vals = np.linspace(omega[0], omega[1], i)\n",
    "        u_ex = x_vals**4/12. - x_vals**3/6. + x_vals/12.\n",
    "        \n",
    "        A_i, b_i = finDif(omega, f, i, bc)\n",
    "        \n",
    "        L_i, U_i = LU(A_i)\n",
    "        w_i = L_solve(L_i, b_i)\n",
    "        u_i = U_solve(U_i, w_i)\n",
    "        \n",
    "        error.append(np.linalg.norm(np.abs(u_ex - u_i), 2))\n",
    "        \n",
    "    return error"
   ]
  },
  {
   "cell_type": "code",
   "execution_count": 11,
   "id": "432df4fc-dd3f-4164-af80-0837c4111ca2",
   "metadata": {
    "id": "91212afb"
   },
   "outputs": [
    {
     "data": {
      "image/png": "[encoded data removed]",
      "text/plain": [
       "<Figure size 432x288 with 1 Axes>"
      ]
     },
     "metadata": {
      "needs_background": "light"
     },
     "output_type": "display_data"
    }
   ],
   "source": [
    "omega_new = [0,1]\n",
    "f_new = lambda x : x*(1-x)\n",
    "bc_new = [0,0]\n",
    "\n",
    "n_range = np.arange(10,301,10)\n",
    "\n",
    "errors = error_analysis(f_new, bc_new, omega_new, n_range)\n",
    "\n",
    "plt.title(\"Error decay - Absolute Error vs 'n'\")\n",
    "_ = plt.semilogy(n_range, errors, 'o-')"
   ]
  },
  {
   "cell_type": "markdown",
   "id": "c8d5002f",
   "metadata": {
    "id": "c8d5002f"
   },
   "source": [
    "Exploit the derived LU factorizations to compute the condition number of the system's matrix $A$ using the original problem formulation."
   ]
  },
  {
   "cell_type": "code",
   "execution_count": 12,
   "id": "47754c4c-5421-4cf2-ba8f-4a44a05696b4",
   "metadata": {
    "id": "c25fc1fe"
   },
   "outputs": [],
   "source": [
    "# Power Method Function - needed for Condition Number Solution\n",
    "def PM(A,z0,tol,nmax):\n",
    "    q = z0/np.linalg.norm(z0,2)\n",
    "    it = 0\n",
    "    err = tol + 1.\n",
    "    \n",
    "    while it < nmax and err > tol:\n",
    "        z = np.dot(A,q)\n",
    "        l = np.dot(q.T,z)\n",
    "        err = np.linalg.norm(z-l*q,2)\n",
    "        q = z/np.linalg.norm(z,2)\n",
    "        it += 1\n",
    "    \n",
    "    return l,q"
   ]
  },
  {
   "cell_type": "code",
   "execution_count": 13,
   "id": "93612f31-8617-4dae-891b-4fa4cce220a4",
   "metadata": {
    "id": "c25fc1fe"
   },
   "outputs": [],
   "source": [
    "# Inverse Power Method Function - needed for Condition Number Solution\n",
    "def IPM(A,x0,mu,tol,nmax):\n",
    "    I = np.eye(len(A))\n",
    "    M = A - mu*I\n",
    "    L,U = LU(M)\n",
    "    q = x0/np.linalg.norm(x0,2)\n",
    "    err = tol + 1.0\n",
    "    it = 0\n",
    "    \n",
    "    while it < nmax and err > tol:\n",
    "        y = L_solve(L,q)\n",
    "        x = U_solve(U,y)\n",
    "        q = x/np.linalg.norm(x,2)\n",
    "        z = np.dot(A,q)\n",
    "        l = np.dot(q.T,z)\n",
    "        err = np.linalg.norm(z-l*q,2)\n",
    "        it += 1\n",
    "        \n",
    "    #I = np.eye(len(A))\n",
    "    #M = A - mu*I\n",
    "    #P,L,U = lu(M) #scipy's LU factorization\n",
    "    #err = tol + 1.\n",
    "    #it = 0\n",
    "    #q = x0/np.linalg.norm(x0,2)\n",
    "    \n",
    "    #while it < nmax and err > tol:\n",
    "    #    y = solve_triangular(L, np.dot(P.T,q), lower=True)\n",
    "    #    x = solve_triangular(U, y)\n",
    "    #    q = x/np.linalg.norm(x,2)\n",
    "    #    z = np.dot(A,q)\n",
    "    #    l = np.dot(q.T,z)\n",
    "    #    err = np.linalg.norm(z-l*q,2)\n",
    "    #    it += 1\n",
    "    \n",
    "    return l,q   "
   ]
  },
  {
   "cell_type": "code",
   "execution_count": 14,
   "id": "8b222a32-509e-4082-836c-4e7bfaf5f018",
   "metadata": {
    "id": "c25fc1fe"
   },
   "outputs": [
    {
     "name": "stdout",
     "output_type": "stream",
     "text": [
      "5397.138055541535\n"
     ]
    }
   ],
   "source": [
    "def condNumb(A):\n",
    "    z0 = np.random.rand(A.shape[0])\n",
    "    mu = 0.0\n",
    "    tol = 1e-5\n",
    "    nmax = 500\n",
    "    lmax = PM(A,z0,tol,nmax)[0]\n",
    "    lmin = IPM(A,z0,mu,tol,nmax)[0]\n",
    "    condNu = lmax/lmin\n",
    "    \n",
    "    return condNu\n",
    "\n",
    "print(condNumb(A))"
   ]
  },
  {
   "cell_type": "markdown",
   "id": "2728b49a",
   "metadata": {
    "id": "2728b49a"
   },
   "source": [
    "Implement a preconditioned Conjugant Gradient method to solve the original linear system of equations using an iterative method:"
   ]
  },
  {
   "cell_type": "code",
   "execution_count": 15,
   "id": "60dfc640-2639-4e11-9087-50591cef7b60",
   "metadata": {
    "id": "62b83aee"
   },
   "outputs": [],
   "source": [
    "def conjugate_gradient(A, b, P, nmax=len(A), eps=1e-11):\n",
    "    N = len(A)\n",
    "    x = np.zeros_like(b)\n",
    "    r = b - np.dot(A,x)\n",
    "    rho_old = 1.\n",
    "    p_old = np.zeros_like(b)\n",
    "    tol = eps + 1.0\n",
    "    it = 0\n",
    "    \n",
    "    while (it < nmax and tol > eps):\n",
    "        it += 1\n",
    "        z = np.linalg.solve(P,r)\n",
    "        rho = np.dot(r,z)\n",
    "        if (it > 1):\n",
    "            beta = rho/rho_old\n",
    "            p = z + beta*p_old\n",
    "        else:\n",
    "            p = z\n",
    "        \n",
    "        q = np.dot(A,p)\n",
    "        alpha = rho/np.dot(p,q)\n",
    "        \n",
    "        x += p*alpha\n",
    "        r -= q*alpha\n",
    "        p_old = p\n",
    "        rho_old = rho\n",
    "        tol = np.linalg.norm(r,2)\n",
    "\n",
    "    #print(it,tol)\n",
    "\n",
    "    return x"
   ]
  },
  {
   "cell_type": "code",
   "execution_count": 16,
   "id": "c6ef1ff6-ae0d-4105-a30f-7e46ffc42674",
   "metadata": {
    "id": "62b83aee"
   },
   "outputs": [
    {
     "data": {
      "text/plain": [
       "<matplotlib.legend.Legend at 0x7fc0af63ba00>"
      ]
     },
     "execution_count": 16,
     "metadata": {},
     "output_type": "execute_result"
    },
    {
     "data": {
      "image/png": "[encoded data removed]",
      "text/plain": [
       "<Figure size 432x288 with 1 Axes>"
      ]
     },
     "metadata": {
      "needs_background": "light"
     },
     "output_type": "display_data"
    }
   ],
   "source": [
    "# Verifying Conjugate Gradient solution\n",
    "xx = np.linspace(omega[0], omega[1], n)\n",
    "u_ex = np.sin(xx)\n",
    "u_cg = conjugate_gradient(A, b, np.diag(np.diag(A)))\n",
    "plt.title(\"Conjugate Gradient Solution\")\n",
    "_ = plt.plot(xx, u_cg, 'ro', label='estimated solution')\n",
    "_ = plt.plot(xx, u_ex, 'g.', label='exact solution')\n",
    "plt.legend()"
   ]
  },
  {
   "cell_type": "markdown",
   "id": "8a4cfc02",
   "metadata": {
    "id": "8a4cfc02"
   },
   "source": [
    "Consider the following time dependent variation of the PDE starting from the orginal problem formulation:\n",
    "$$\n",
    "u'(t)-u_{xx} = \\alpha(t)f(x)\n",
    "$$\n",
    "\n",
    "for $t\\in [0,T]$, with $\\alpha(t) = \\cos(t)$ and $T = 6\\pi$\n",
    "\n",
    "Use the same finite difference scheme to derive the semi-discrete formulation and solve it using a forward Euler's method.\n",
    "\n",
    "Plot the time dependent solution solution at $x = \\pi/2$, $x=1$, \n",
    "$x=\\pi$\n"
   ]
  },
  {
   "cell_type": "code",
   "execution_count": 17,
   "id": "6ec202e9-0836-419c-8e8b-167163c19d00",
   "metadata": {
    "id": "3ffe0689"
   },
   "outputs": [],
   "source": [
    "# Forward Euler Method Function\n",
    "def fe(A,b,l,y0,t0,tf,h):\n",
    "    timesteps = np.arange(t0,tf+1e-10,h)\n",
    "    t = timesteps\n",
    "    sol = np.zeros((len(t), len(u0)))\n",
    "    sol[0,:] = y0\n",
    "    \n",
    "    for i in range(1,len(t)):\n",
    "        u_xx = -np.dot(A,sol[i-1])     \n",
    "        l_b = np.dot(alpha(t[i-1]),b)       \n",
    "        sol[i] = sol[i-1] + h*u_xx + h*l_b\n",
    "    \n",
    "    return sol, timesteps"
   ]
  },
  {
   "cell_type": "code",
   "execution_count": 18,
   "id": "103941be-a9ba-4ce9-9353-59357270b27e",
   "metadata": {
    "id": "3ffe0689"
   },
   "outputs": [
    {
     "data": {
      "text/plain": [
       "<matplotlib.legend.Legend at 0x7fc0af4912b0>"
      ]
     },
     "execution_count": 18,
     "metadata": {},
     "output_type": "execute_result"
    },
    {
     "data": {
      "image/png": "[encoded data removed]",
      "text/plain": [
       "<Figure size 432x288 with 1 Axes>"
      ]
     },
     "metadata": {
      "needs_background": "light"
     },
     "output_type": "display_data"
    }
   ],
   "source": [
    "t0 = 0\n",
    "tf = 6*np.pi\n",
    "alpha = lambda x: np.cos(x)\n",
    "\n",
    "omega = [0,np.pi] # reusing original omega\n",
    "n=100 # reusing original n\n",
    "\n",
    "# inv of max eigenvalue is taken as a step\n",
    "tol = 1e-5\n",
    "nmax = 500\n",
    "xx = np.linspace(omega[0], omega[1], n)\n",
    "eigenvalue_max,_ = PM(A,np.ones_like(xx),tol,nmax) \n",
    "h = 1/(eigenvalue_max)\n",
    "\n",
    "# Initial condition: u0 = sin(x)\n",
    "u0 = np.sin(xx)\n",
    "\n",
    "width = omega[1] - omega[0]\n",
    "x_pi_2 = int(np.floor(n/width * np.pi/2.) - 1)\n",
    "x_one = int(np.floor((n/width) - 1))\n",
    "x_pi = int(np.floor((n/width *np.pi)) - 1)\n",
    "\n",
    "sol, t = fe(A,b,alpha,u0,t0,tf,h)\n",
    "\n",
    "plt.plot(t, sol[:,x_one], label='x=1')\n",
    "plt.plot(t, sol[:,x_pi_2], label='x=π/2')\n",
    "plt.plot(t, sol[:,x_pi], label='x=π')\n",
    "plt.legend()"
   ]
  },
  {
   "cell_type": "markdown",
   "id": "36936121",
   "metadata": {
    "id": "36936121"
   },
   "source": [
    "Given the original $Au = b$ system, implement an algorithm to compute the eigenvalues and eigenvectors of the matrix $A$. Exploit the computed LU factorization"
   ]
  },
  {
   "cell_type": "code",
   "execution_count": null,
   "id": "622aadf4",
   "metadata": {
    "id": "622aadf4"
   },
   "outputs": [],
   "source": [
    "#TODO"
   ]
  },
  {
   "cell_type": "markdown",
   "id": "85d5f64e",
   "metadata": {
    "id": "85d5f64e"
   },
   "source": [
    "Compute the inverse of the matrix A exploiting the derived LU factorization"
   ]
  },
  {
   "cell_type": "code",
   "execution_count": 41,
   "id": "6ad7199f",
   "metadata": {
    "id": "6ad7199f"
   },
   "outputs": [
    {
     "name": "stdout",
     "output_type": "stream",
     "text": [
      "Max error between the 2 matrices = \n",
      "1.1553258350005535e-15\n"
     ]
    }
   ],
   "source": [
    "def inverse_matrix_LU(A):\n",
    "    L,U = LU(A)\n",
    "    N = len(A)\n",
    "    A_inv = np.zeros_like(A)\n",
    "    I = np.identity(A.shape[0])\n",
    "    \n",
    "    for i in range(N):\n",
    "        q = L_solve(L,I[:,i])\n",
    "        A_inv_i = U_solve(U,q)\n",
    "        A_inv[:,i] = A_inv_i\n",
    "    \n",
    "    return A_inv\n",
    "\n",
    "# Compare inverse to that computed by Numpy\n",
    "A_inv_LU = inverse_matrix_LU(A)\n",
    "A_inv_numpy = np.linalg.inv(A)\n",
    "\n",
    "print(\"Max error between the 2 matrices = \")\n",
    "print(max(np.abs(inv_LU - inv_numpy).max(axis=0)))"
   ]
  },
  {
   "cell_type": "markdown",
   "id": "cb22566e",
   "metadata": {
    "id": "cb22566e"
   },
   "source": [
    "Consider the following Cauchy problem\n",
    "$$\n",
    "\\begin{cases}\n",
    "y'= -ty^2 \\quad 0\\le t \\le 2\\\\\n",
    "y(0) = 1\n",
    "\\end{cases}\n",
    "$$\n",
    "Implement a Backward Euler's method in a suitable function and solve the resulting non-linear equation using a Newton's method."
   ]
  },
  {
   "cell_type": "code",
   "execution_count": 42,
   "id": "211a5127-bf80-45b1-ba7f-429561373e1b",
   "metadata": {
    "id": "3184e358"
   },
   "outputs": [],
   "source": [
    "# Newton's Method function\n",
    "def newton(f,f_prime,x0,eps,n_max):\n",
    "    assert np.abs(f_prime(x0)) > 1e-16\n",
    "    err = np.abs(f(x0))\n",
    "    errors = [err]\n",
    "    it = 0\n",
    "    x = x0\n",
    "    \n",
    "    while (err > eps and it < n_max):\n",
    "        qk = f_prime(x)\n",
    "        if np.abs(qk) < 1e-12:\n",
    "            raise RuntimeError(\"f_prime(x) is close to zero\")\n",
    "        \n",
    "        x_new = x - f(x)/qk \n",
    "        err = np.abs(f(x_new))\n",
    "        \n",
    "        x = x_new\n",
    "        errors.append(err)\n",
    "        it += 1\n",
    "            \n",
    "        #plt.semilogy(errors)\n",
    "\n",
    "    return x, errors"
   ]
  },
  {
   "cell_type": "code",
   "execution_count": 43,
   "id": "2209bac8-63eb-4078-bd29-c41790b272dc",
   "metadata": {
    "id": "3184e358"
   },
   "outputs": [],
   "source": [
    "# Backward Euler Method Function\n",
    "def be(y0,t0,tf,h):\n",
    "    timesteps = np.arange(t0, tf+1e-10, h)\n",
    "    t = timesteps\n",
    "    sol = np.zeros_like(timesteps)\n",
    "    sol[0] = y0\n",
    "    eps = 1e-5\n",
    "    n_max = 1000\n",
    "    \n",
    "    for i in range(1, len(sol)):\n",
    "        f = lambda y: t[i]*h*y**2 + y - sol[i-1]\n",
    "        df = lambda y: 2*t[i]*h*y + 1\n",
    "        sol[i],_ = newton(f, df, sol[i-1], eps, n_max)\n",
    "\n",
    "    return sol, timesteps"
   ]
  },
  {
   "cell_type": "code",
   "execution_count": 44,
   "id": "7ca33ca9-46a6-43b6-8392-115e144b7b75",
   "metadata": {
    "id": "3184e358"
   },
   "outputs": [
    {
     "data": {
      "text/plain": [
       "<matplotlib.legend.Legend at 0x7fc0af63b2e0>"
      ]
     },
     "execution_count": 44,
     "metadata": {},
     "output_type": "execute_result"
    },
    {
     "data": {
      "image/png": "[encoded data removed]",
      "text/plain": [
       "<Figure size 432x288 with 1 Axes>"
      ]
     },
     "metadata": {
      "needs_background": "light"
     },
     "output_type": "display_data"
    }
   ],
   "source": [
    "# Plot solution of Cauchy Problem\n",
    "\n",
    "t0 = 0.0\n",
    "tf = 2.0\n",
    "y0 = 1.0\n",
    "\n",
    "y,t = be(y0, t0, tf, 0.05)\n",
    "y_ex = 2.0/(t*t + 2.0)\n",
    "\n",
    "plt.title(\"Solution using Newton's Method and Backward Euler\")\n",
    "_ = plt.plot(t, y, 'go', label='estimated solution')\n",
    "_ = plt.plot(t, y_ex, 'r.', label='exact solution')\n",
    "plt.legend()"
   ]
  },
  {
   "cell_type": "code",
   "execution_count": null,
   "id": "94af27fd-9eb1-4643-974f-e71b711c01a7",
   "metadata": {},
   "outputs": [],
   "source": []
  }
 ],
 "metadata": {
  "colab": {
   "name": "FinalProject-2021-2022.ipynb",
   "provenance": []
  },
  "kernelspec": {
   "display_name": "Python 3",
   "language": "python",
   "name": "python3"
  },
  "language_info": {
   "codemirror_mode": {
    "name": "ipython",
    "version": 3
   },
   "file_extension": ".py",
   "mimetype": "text/x-python",
   "name": "python",
   "nbconvert_exporter": "python",
   "pygments_lexer": "ipython3",
   "version": "3.8.8"
  }
 },
 "nbformat": 4,
 "nbformat_minor": 5
}
