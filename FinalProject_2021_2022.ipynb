{
 "cells": [
  {
   "cell_type": "code",
   "execution_count": 1,
   "id": "3fe94688",
   "metadata": {
    "id": "3fe94688"
   },
   "outputs": [],
   "source": [
    "%matplotlib inline\n",
    "import numpy as np\n",
    "import matplotlib.pyplot as plt\n",
    "from scipy.linalg import solve_triangular\n",
    "from scipy.linalg import lu\n",
    "import pandas as pd"
   ]
  },
  {
   "cell_type": "markdown",
   "id": "8184faab",
   "metadata": {
    "id": "8184faab"
   },
   "source": [
    "Consider the following one-dimensional PDE:\n",
    "$$\n",
    "-u_{xx}(x) = f(x)\\quad\\mathrm{ in }\\ \\Omega = (0, \\pi)\n",
    "$$\n",
    "$$\n",
    "u(x) = 0, \\quad\\mathrm{ on }\\ \\partial\\Omega = \\{0, \\pi\\}\n",
    "$$\n",
    "\n",
    "Given the following $4^{th}$ order finite difference approximation of the second order derivative:\n",
    "\n",
    "$$u_{xx}(x_i) = \\frac{-u_{i-2}+16u_{i-1}-30u_i+16u_{i+1}-u_{i+2}}{12h^2}$$\n",
    "\n",
    "Implement a function that given the domain interval, the forcing function, the number of discretization points, the boundary conditions, returns the matrix $A$ and the the right hand side $b$."
   ]
  },
  {
   "cell_type": "code",
   "execution_count": 2,
   "id": "1c562f13",
   "metadata": {
    "id": "1c562f13"
   },
   "outputs": [],
   "source": [
    "def finDif(omega,f,n,bc):\n",
    "    h = (omega[1] - omega[0]) / (n-1)\n",
    "    \n",
    "    # Part for solving the matrix = A\n",
    "    coeff_1 = 1*np.ones((n-2,))\n",
    "    coeff_2 = -16*np.ones((n-1,))\n",
    "    coeff_3 = 30*np.ones((n,))\n",
    "    \n",
    "    #A = np.zeros((n,n))\n",
    "    \n",
    "    A = (np.diag(coeff_1, -2) + np.diag(coeff_2, -1) + np.diag(coeff_3, 0)\n",
    "        + np.diag(coeff_2, +1) + np.diag(coeff_1, +2))\n",
    "    \n",
    "    A = A/(12.*(h**2))\n",
    "    \n",
    "    # Part for solving the RHS = b\n",
    "    x = np.linspace(omega[0], omega[1], n)\n",
    "    b = f(x)\n",
    "    \n",
    "    # Boundary conditions\n",
    "    A[0,:] = 0\n",
    "    A[:,0] = 0\n",
    "    A[-1,:] = 0\n",
    "    A[:,-1] = 0\n",
    "    A[0,0] = A[-1,-1] = 1\n",
    "    b[0] = bc[0]/(h**2)\n",
    "    b[-1] = bc[1]/(h**2)\n",
    "    \n",
    "    return A, b"
   ]
  },
  {
   "cell_type": "markdown",
   "id": "c21bb21e",
   "metadata": {
    "id": "c21bb21e"
   },
   "source": [
    "Call the function using:"
   ]
  },
  {
   "cell_type": "code",
   "execution_count": 3,
   "id": "23af8831",
   "metadata": {
    "id": "23af8831"
   },
   "outputs": [],
   "source": [
    "omega = [0,np.pi]\n",
    "f = lambda x : np.sin(x)\n",
    "n=100\n",
    "bc = [0,0]\n",
    "A, b = finDif(omega, f, n, bc)\n",
    "\n",
    "#print(A)\n",
    "#print(b)\n",
    "\n",
    "# Solve the linear system using numpy\n",
    "xx = np.linspace(omega[0], omega[1], n)\n",
    "#fx = np.sin(xx)\n",
    "#A1 = A.copy()\n",
    "#u = np.linalg.solve(A1, fx)\n",
    "u_numpy = np.linalg.solve(A, b)\n",
    "u_ex = np.sin(xx)\n",
    "\n",
    "# Plot the FD and exact solution\n",
    "#_ = plt.plot(xx,u,'ro',label='estimated solution')\n",
    "#_ = plt.plot(xx,u_ex,'go',label='exact solution')\n",
    "#plt.legend()"
   ]
  },
  {
   "cell_type": "markdown",
   "id": "4f8a7c6f",
   "metadata": {
    "id": "4f8a7c6f"
   },
   "source": [
    "Implement two functions that compute the LU and the Cholesky factorization of the system matrix $A$"
   ]
  },
  {
   "cell_type": "code",
   "execution_count": 4,
   "id": "47468a37",
   "metadata": {
    "id": "47468a37"
   },
   "outputs": [],
   "source": [
    "def LU(A):\n",
    "    A = A.copy()\n",
    "    N=len(A)\n",
    "    \n",
    "    for k in range(N-1):\n",
    "        if (abs(A[k,k]) < 1e-15):\n",
    "            raise RuntimeError(\"Null pivot\")\n",
    "            \n",
    "        A[k+1:N,k] /= A[k,k]\n",
    "        \n",
    "        for j in range(k+1,N):\n",
    "            A[k+1:N,j] -= A[k+1:N,k]*A[k,j]\n",
    "    \n",
    "    L=np.tril(A)\n",
    "    \n",
    "    for i in range(N):\n",
    "        L[i,i]=1.0\n",
    "        \n",
    "    U = np.triu(A)\n",
    "    return L, U\n",
    "\n",
    "L, U = LU(A)"
   ]
  },
  {
   "cell_type": "code",
   "execution_count": 5,
   "id": "193ebfed",
   "metadata": {
    "id": "193ebfed"
   },
   "outputs": [],
   "source": [
    "def cholesky(A):\n",
    "    A = A.copy()\n",
    "    N = len(A)\n",
    "    \n",
    "    for k in range(N-1):\n",
    "        A[k,k] = np.sqrt(A[k,k])\n",
    "        A[k+1:N,k] = A[k+1:N,k]/A[k,k]\n",
    "        \n",
    "        for j in range(k+1,N):\n",
    "            A[j:N,j] = A[j:N,j] - A[j:N,k]*A[j,k]\n",
    "        \n",
    "    A[-1,-1] = np.sqrt(A[-1,-1])\n",
    "    L=np.tril(A)\n",
    "    return L, L.transpose()\n",
    "\n",
    "HT, H = cholesky(A)"
   ]
  },
  {
   "cell_type": "markdown",
   "id": "41eb8436",
   "metadata": {
    "id": "41eb8436"
   },
   "source": [
    "Implement forward and backward substitution functions to exploit the developed factorization methods to solve the derived linear system of equations."
   ]
  },
  {
   "cell_type": "code",
   "execution_count": 6,
   "id": "019cf0df",
   "metadata": {
    "id": "019cf0df"
   },
   "outputs": [],
   "source": [
    "def L_solve(L,rhs):\n",
    "    x = np.zeros_like(rhs)\n",
    "    N = len(L)\n",
    "        \n",
    "    x[0] = rhs[0]/L[0,0]\n",
    "    \n",
    "    for i in range(1,N):\n",
    "        x[i] = (rhs[i] - np.dot(L[i, 0:i], x[0:i]))/L[i,i]\n",
    "        \n",
    "    return x"
   ]
  },
  {
   "cell_type": "code",
   "execution_count": 7,
   "id": "26ce17c4",
   "metadata": {
    "id": "26ce17c4"
   },
   "outputs": [],
   "source": [
    "def U_solve(U,rhs):\n",
    "    x = np.zeros_like(rhs)\n",
    "    N = len(U)\n",
    "    \n",
    "    x[-1] = rhs[-1]/L[-1,-1]\n",
    "    \n",
    "    for i in reversed(range(N-1)):\n",
    "        x[i] = (rhs[i] - np.dot(U[i, i+1:N], x[i+1:N]))/U[i,i]\n",
    "\n",
    "    return x"
   ]
  },
  {
   "cell_type": "markdown",
   "id": "08ac9ba1",
   "metadata": {
    "id": "08ac9ba1"
   },
   "source": [
    "Solve the derived linear system using the implemented functions and plot the computed solution:"
   ]
  },
  {
   "cell_type": "code",
   "execution_count": 8,
   "id": "a7f45d96-c397-48fc-975a-83e6d615c76c",
   "metadata": {
    "id": "7c1de4f3"
   },
   "outputs": [
    {
     "name": "stdout",
     "output_type": "stream",
     "text": [
      "Maximum error (numpy): 6.294964549624638e-14\n",
      "Maximum error (analytical): 0.0024541617562829354\n"
     ]
    },
    {
     "data": {
      "image/png": "[encoded data removed]",
      "text/plain": [
       "<Figure size 432x288 with 1 Axes>"
      ]
     },
     "metadata": {
      "needs_background": "light"
     },
     "output_type": "display_data"
    }
   ],
   "source": [
    "xx = np.linspace(omega[0], omega[1], n)\n",
    "\n",
    "w = L_solve(L,b)\n",
    "u = U_solve(U,w)\n",
    "\n",
    "plt.title(\"LU Factorization\")\n",
    "_ = plt.plot(xx,u,'yo',label='estimated solution')\n",
    "_ = plt.plot(xx,u_ex, 'r.',label='exact solution')\n",
    "_ = plt.plot(xx,u_numpy, 'b',label='numpy solution')\n",
    "plt.legend()\n",
    "\n",
    "print(\"Maximum error (numpy):\", max(abs(u-u_numpy)))\n",
    "print(\"Maximum error (analytical):\", max(abs(u-u_ex)))"
   ]
  },
  {
   "cell_type": "code",
   "execution_count": 9,
   "id": "c9006941-fdbd-434d-a717-c6d88495e8a2",
   "metadata": {
    "id": "7c1de4f3"
   },
   "outputs": [
    {
     "name": "stdout",
     "output_type": "stream",
     "text": [
      "Maximum error (numpy): 2.5646151868841116e-14\n",
      "Maximum error (analytical): 0.0024541617562779117\n"
     ]
    },
    {
     "data": {
      "image/png": "[encoded data removed]",
      "text/plain": [
       "<Figure size 432x288 with 1 Axes>"
      ]
     },
     "metadata": {
      "needs_background": "light"
     },
     "output_type": "display_data"
    }
   ],
   "source": [
    "xx = np.linspace(omega[0], omega[1], n)\n",
    "\n",
    "w = L_solve(HT,b)\n",
    "u = U_solve(H,w)\n",
    "\n",
    "plt.title(\"Cholesky Factorization\")\n",
    "_ = plt.plot(xx,u,'yo',label='estimated solution')\n",
    "_ = plt.plot(xx,u_ex, 'r.',label='exact solution')\n",
    "_ = plt.plot(xx,u_numpy, 'b',label='numpy solution')\n",
    "plt.legend()\n",
    "\n",
    "print(\"Maximum error (numpy):\", max(abs(u-u_numpy)))\n",
    "print(\"Maximum error (analytical):\", max(abs(u-u_ex)))"
   ]
  },
  {
   "cell_type": "markdown",
   "id": "62cdfe65",
   "metadata": {
    "id": "62cdfe65"
   },
   "source": [
    "Considering the new domain $\\Omega = (0,1)$ and the forcing term $f(x) = x(1-x)$ with B.C. $u(x) = 0$, on $\\partial \\Omega = {0,1}$ produce a plot and a table where you show the decay of the error w.r.t. the number of grid points.\n",
    "(The analytical solution for the above problems is $u_{an} = \\frac{x^4}{12} - \\frac{x^3}{6} + \\frac{x}{12}$)"
   ]
  },
  {
   "cell_type": "code",
   "execution_count": 10,
   "id": "35a88c3b-4bcd-4c20-8e26-0655836cde60",
   "metadata": {
    "id": "91212afb"
   },
   "outputs": [],
   "source": [
    "def error_analysis(f,bc,omega,n_range,f_exact):\n",
    "    error=[]\n",
    "    for i in n_range:\n",
    "        x_vals = np.linspace(omega[0], omega[1], i)\n",
    "        #u_ex = x_vals**4/12. - x_vals**3/6. + x_vals/12.\n",
    "        u_ex = f_exact(x_vals)\n",
    "        A_i, b_i = finDif(omega, f, i, bc)\n",
    "        \n",
    "        L_i, U_i = LU(A_i)\n",
    "        w_i = L_solve(L_i, b_i)\n",
    "        u_i = U_solve(U_i, w_i)\n",
    "        \n",
    "        error.append(np.linalg.norm(np.abs(u_ex - u_i), 2))\n",
    "        \n",
    "    return error"
   ]
  },
  {
   "cell_type": "code",
   "execution_count": 11,
   "id": "432df4fc-dd3f-4164-af80-0837c4111ca2",
   "metadata": {
    "id": "91212afb"
   },
   "outputs": [
    {
     "data": {
      "text/html": [
       "<div>\n",
       "<style scoped>\n",
       "    .dataframe tbody tr th:only-of-type {\n",
       "        vertical-align: middle;\n",
       "    }\n",
       "\n",
       "    .dataframe tbody tr th {\n",
       "        vertical-align: top;\n",
       "    }\n",
       "\n",
       "    .dataframe thead th {\n",
       "        text-align: right;\n",
       "    }\n",
       "</style>\n",
       "<table border=\"1\" class=\"dataframe\">\n",
       "  <thead>\n",
       "    <tr style=\"text-align: right;\">\n",
       "      <th></th>\n",
       "      <th>n</th>\n",
       "      <th>error</th>\n",
       "    </tr>\n",
       "  </thead>\n",
       "  <tbody>\n",
       "    <tr>\n",
       "      <th>0</th>\n",
       "      <td>10</td>\n",
       "      <td>0.001936</td>\n",
       "    </tr>\n",
       "    <tr>\n",
       "      <th>1</th>\n",
       "      <td>20</td>\n",
       "      <td>0.001419</td>\n",
       "    </tr>\n",
       "    <tr>\n",
       "      <th>2</th>\n",
       "      <td>30</td>\n",
       "      <td>0.001167</td>\n",
       "    </tr>\n",
       "    <tr>\n",
       "      <th>3</th>\n",
       "      <td>40</td>\n",
       "      <td>0.001013</td>\n",
       "    </tr>\n",
       "    <tr>\n",
       "      <th>4</th>\n",
       "      <td>50</td>\n",
       "      <td>0.000908</td>\n",
       "    </tr>\n",
       "    <tr>\n",
       "      <th>5</th>\n",
       "      <td>60</td>\n",
       "      <td>0.000829</td>\n",
       "    </tr>\n",
       "    <tr>\n",
       "      <th>6</th>\n",
       "      <td>70</td>\n",
       "      <td>0.000768</td>\n",
       "    </tr>\n",
       "    <tr>\n",
       "      <th>7</th>\n",
       "      <td>80</td>\n",
       "      <td>0.000719</td>\n",
       "    </tr>\n",
       "    <tr>\n",
       "      <th>8</th>\n",
       "      <td>90</td>\n",
       "      <td>0.000678</td>\n",
       "    </tr>\n",
       "    <tr>\n",
       "      <th>9</th>\n",
       "      <td>100</td>\n",
       "      <td>0.000643</td>\n",
       "    </tr>\n",
       "    <tr>\n",
       "      <th>10</th>\n",
       "      <td>110</td>\n",
       "      <td>0.000614</td>\n",
       "    </tr>\n",
       "    <tr>\n",
       "      <th>11</th>\n",
       "      <td>120</td>\n",
       "      <td>0.000588</td>\n",
       "    </tr>\n",
       "    <tr>\n",
       "      <th>12</th>\n",
       "      <td>130</td>\n",
       "      <td>0.000565</td>\n",
       "    </tr>\n",
       "    <tr>\n",
       "      <th>13</th>\n",
       "      <td>140</td>\n",
       "      <td>0.000544</td>\n",
       "    </tr>\n",
       "    <tr>\n",
       "      <th>14</th>\n",
       "      <td>150</td>\n",
       "      <td>0.000526</td>\n",
       "    </tr>\n",
       "    <tr>\n",
       "      <th>15</th>\n",
       "      <td>160</td>\n",
       "      <td>0.000509</td>\n",
       "    </tr>\n",
       "    <tr>\n",
       "      <th>16</th>\n",
       "      <td>170</td>\n",
       "      <td>0.000494</td>\n",
       "    </tr>\n",
       "    <tr>\n",
       "      <th>17</th>\n",
       "      <td>180</td>\n",
       "      <td>0.000480</td>\n",
       "    </tr>\n",
       "    <tr>\n",
       "      <th>18</th>\n",
       "      <td>190</td>\n",
       "      <td>0.000467</td>\n",
       "    </tr>\n",
       "    <tr>\n",
       "      <th>19</th>\n",
       "      <td>200</td>\n",
       "      <td>0.000455</td>\n",
       "    </tr>\n",
       "    <tr>\n",
       "      <th>20</th>\n",
       "      <td>210</td>\n",
       "      <td>0.000444</td>\n",
       "    </tr>\n",
       "    <tr>\n",
       "      <th>21</th>\n",
       "      <td>220</td>\n",
       "      <td>0.000434</td>\n",
       "    </tr>\n",
       "    <tr>\n",
       "      <th>22</th>\n",
       "      <td>230</td>\n",
       "      <td>0.000425</td>\n",
       "    </tr>\n",
       "    <tr>\n",
       "      <th>23</th>\n",
       "      <td>240</td>\n",
       "      <td>0.000416</td>\n",
       "    </tr>\n",
       "    <tr>\n",
       "      <th>24</th>\n",
       "      <td>250</td>\n",
       "      <td>0.000407</td>\n",
       "    </tr>\n",
       "    <tr>\n",
       "      <th>25</th>\n",
       "      <td>260</td>\n",
       "      <td>0.000400</td>\n",
       "    </tr>\n",
       "    <tr>\n",
       "      <th>26</th>\n",
       "      <td>270</td>\n",
       "      <td>0.000392</td>\n",
       "    </tr>\n",
       "    <tr>\n",
       "      <th>27</th>\n",
       "      <td>280</td>\n",
       "      <td>0.000385</td>\n",
       "    </tr>\n",
       "    <tr>\n",
       "      <th>28</th>\n",
       "      <td>290</td>\n",
       "      <td>0.000378</td>\n",
       "    </tr>\n",
       "    <tr>\n",
       "      <th>29</th>\n",
       "      <td>300</td>\n",
       "      <td>0.000372</td>\n",
       "    </tr>\n",
       "    <tr>\n",
       "      <th>30</th>\n",
       "      <td>310</td>\n",
       "      <td>0.000366</td>\n",
       "    </tr>\n",
       "    <tr>\n",
       "      <th>31</th>\n",
       "      <td>320</td>\n",
       "      <td>0.000360</td>\n",
       "    </tr>\n",
       "    <tr>\n",
       "      <th>32</th>\n",
       "      <td>330</td>\n",
       "      <td>0.000355</td>\n",
       "    </tr>\n",
       "    <tr>\n",
       "      <th>33</th>\n",
       "      <td>340</td>\n",
       "      <td>0.000349</td>\n",
       "    </tr>\n",
       "    <tr>\n",
       "      <th>34</th>\n",
       "      <td>350</td>\n",
       "      <td>0.000344</td>\n",
       "    </tr>\n",
       "    <tr>\n",
       "      <th>35</th>\n",
       "      <td>360</td>\n",
       "      <td>0.000340</td>\n",
       "    </tr>\n",
       "    <tr>\n",
       "      <th>36</th>\n",
       "      <td>370</td>\n",
       "      <td>0.000335</td>\n",
       "    </tr>\n",
       "    <tr>\n",
       "      <th>37</th>\n",
       "      <td>380</td>\n",
       "      <td>0.000331</td>\n",
       "    </tr>\n",
       "    <tr>\n",
       "      <th>38</th>\n",
       "      <td>390</td>\n",
       "      <td>0.000326</td>\n",
       "    </tr>\n",
       "    <tr>\n",
       "      <th>39</th>\n",
       "      <td>400</td>\n",
       "      <td>0.000322</td>\n",
       "    </tr>\n",
       "    <tr>\n",
       "      <th>40</th>\n",
       "      <td>410</td>\n",
       "      <td>0.000318</td>\n",
       "    </tr>\n",
       "    <tr>\n",
       "      <th>41</th>\n",
       "      <td>420</td>\n",
       "      <td>0.000314</td>\n",
       "    </tr>\n",
       "    <tr>\n",
       "      <th>42</th>\n",
       "      <td>430</td>\n",
       "      <td>0.000311</td>\n",
       "    </tr>\n",
       "    <tr>\n",
       "      <th>43</th>\n",
       "      <td>440</td>\n",
       "      <td>0.000307</td>\n",
       "    </tr>\n",
       "    <tr>\n",
       "      <th>44</th>\n",
       "      <td>450</td>\n",
       "      <td>0.000304</td>\n",
       "    </tr>\n",
       "    <tr>\n",
       "      <th>45</th>\n",
       "      <td>460</td>\n",
       "      <td>0.000300</td>\n",
       "    </tr>\n",
       "    <tr>\n",
       "      <th>46</th>\n",
       "      <td>470</td>\n",
       "      <td>0.000297</td>\n",
       "    </tr>\n",
       "    <tr>\n",
       "      <th>47</th>\n",
       "      <td>480</td>\n",
       "      <td>0.000294</td>\n",
       "    </tr>\n",
       "    <tr>\n",
       "      <th>48</th>\n",
       "      <td>490</td>\n",
       "      <td>0.000291</td>\n",
       "    </tr>\n",
       "    <tr>\n",
       "      <th>49</th>\n",
       "      <td>500</td>\n",
       "      <td>0.000288</td>\n",
       "    </tr>\n",
       "  </tbody>\n",
       "</table>\n",
       "</div>"
      ],
      "text/plain": [
       "      n     error\n",
       "0    10  0.001936\n",
       "1    20  0.001419\n",
       "2    30  0.001167\n",
       "3    40  0.001013\n",
       "4    50  0.000908\n",
       "5    60  0.000829\n",
       "6    70  0.000768\n",
       "7    80  0.000719\n",
       "8    90  0.000678\n",
       "9   100  0.000643\n",
       "10  110  0.000614\n",
       "11  120  0.000588\n",
       "12  130  0.000565\n",
       "13  140  0.000544\n",
       "14  150  0.000526\n",
       "15  160  0.000509\n",
       "16  170  0.000494\n",
       "17  180  0.000480\n",
       "18  190  0.000467\n",
       "19  200  0.000455\n",
       "20  210  0.000444\n",
       "21  220  0.000434\n",
       "22  230  0.000425\n",
       "23  240  0.000416\n",
       "24  250  0.000407\n",
       "25  260  0.000400\n",
       "26  270  0.000392\n",
       "27  280  0.000385\n",
       "28  290  0.000378\n",
       "29  300  0.000372\n",
       "30  310  0.000366\n",
       "31  320  0.000360\n",
       "32  330  0.000355\n",
       "33  340  0.000349\n",
       "34  350  0.000344\n",
       "35  360  0.000340\n",
       "36  370  0.000335\n",
       "37  380  0.000331\n",
       "38  390  0.000326\n",
       "39  400  0.000322\n",
       "40  410  0.000318\n",
       "41  420  0.000314\n",
       "42  430  0.000311\n",
       "43  440  0.000307\n",
       "44  450  0.000304\n",
       "45  460  0.000300\n",
       "46  470  0.000297\n",
       "47  480  0.000294\n",
       "48  490  0.000291\n",
       "49  500  0.000288"
      ]
     },
     "metadata": {},
     "output_type": "display_data"
    },
    {
     "data": {
      "image/png": "[encoded data removed]",
      "text/plain": [
       "<Figure size 432x288 with 1 Axes>"
      ]
     },
     "metadata": {
      "needs_background": "light"
     },
     "output_type": "display_data"
    }
   ],
   "source": [
    "omega_new = [0,1]\n",
    "f_new = lambda x : x*(1-x)\n",
    "bc_new = [0,0]\n",
    "\n",
    "n_range = np.arange(10,501,10)\n",
    "f_exact = lambda x : (pow(x,4)/12 - pow(x,3)/6 + x/12)\n",
    "\n",
    "errors = error_analysis(f_new, bc_new, omega_new, n_range,f_exact)\n",
    "\n",
    "df = pd.DataFrame({'n' : n_range, 'error' : errors})  \n",
    "display(df)\n",
    "\n",
    "plt.title(\"Error decay - Absolute Error vs 'n'\")\n",
    "_ = plt.semilogy(n_range, errors, 'ro-')"
   ]
  },
  {
   "cell_type": "markdown",
   "id": "c8d5002f",
   "metadata": {
    "id": "c8d5002f"
   },
   "source": [
    "Exploit the derived LU factorizations to compute the condition number of the system's matrix $A$ using the original problem formulation."
   ]
  },
  {
   "cell_type": "code",
   "execution_count": 12,
   "id": "47754c4c-5421-4cf2-ba8f-4a44a05696b4",
   "metadata": {
    "id": "c25fc1fe"
   },
   "outputs": [],
   "source": [
    "# Power Method Function - needed for Condition Number Solution\n",
    "def PM(A,z0,tol,nmax):\n",
    "    q = z0/np.linalg.norm(z0,2)\n",
    "    it = 0\n",
    "    err = tol + 1.\n",
    "    \n",
    "    while it < nmax and err > tol:\n",
    "        z = np.dot(A,q)\n",
    "        l = np.dot(q.T,z)\n",
    "        err = np.linalg.norm(z-l*q,2)\n",
    "        q = z/np.linalg.norm(z,2)\n",
    "        it += 1\n",
    "    \n",
    "    return l,q"
   ]
  },
  {
   "cell_type": "code",
   "execution_count": 13,
   "id": "93612f31-8617-4dae-891b-4fa4cce220a4",
   "metadata": {
    "id": "c25fc1fe"
   },
   "outputs": [],
   "source": [
    "# Inverse Power Method Function - needed for Condition Number Solution\n",
    "def IPM(A,x0,mu,tol,nmax):\n",
    "    I = np.eye(len(A))\n",
    "    M = A - mu*I\n",
    "    L,U = LU(M)\n",
    "    q = x0/np.linalg.norm(x0,2)\n",
    "    err = tol + 1.0\n",
    "    it = 0\n",
    "    \n",
    "    while it < nmax and err > tol:\n",
    "        y = L_solve(L,q)\n",
    "        x = U_solve(U,y)\n",
    "        q = x/np.linalg.norm(x,2)\n",
    "        z = np.dot(A,q)\n",
    "        l = np.dot(q.T,z)\n",
    "        err = np.linalg.norm(z-l*q,2)\n",
    "        it += 1\n",
    "        \n",
    "    #I = np.eye(len(A))\n",
    "    #M = A - mu*I\n",
    "    #P,L,U = lu(M) #scipy's LU factorization\n",
    "    #err = tol + 1.\n",
    "    #it = 0\n",
    "    #q = x0/np.linalg.norm(x0,2)\n",
    "    \n",
    "    #while it < nmax and err > tol:\n",
    "    #    y = solve_triangular(L, np.dot(P.T,q), lower=True)\n",
    "    #    x = solve_triangular(U, y)\n",
    "    #    q = x/np.linalg.norm(x,2)\n",
    "    #    z = np.dot(A,q)\n",
    "    #    l = np.dot(q.T,z)\n",
    "    #    err = np.linalg.norm(z-l*q,2)\n",
    "    #    it += 1\n",
    "    \n",
    "    return l,q   "
   ]
  },
  {
   "cell_type": "code",
   "execution_count": 14,
   "id": "8b222a32-509e-4082-836c-4e7bfaf5f018",
   "metadata": {
    "id": "c25fc1fe"
   },
   "outputs": [
    {
     "name": "stdout",
     "output_type": "stream",
     "text": [
      "Condition Number we calculate: 5294.598016123485\n",
      "Condition Number from Numpy: 5294.598016140671\n"
     ]
    }
   ],
   "source": [
    "def condNumb(A):\n",
    "    z0 = np.random.rand(A.shape[0])\n",
    "    mu = 0.0\n",
    "    tol = 1e-7\n",
    "    nmax = 13000\n",
    "    lmax = PM(A,z0,tol,nmax)[0]\n",
    "    lmin = IPM(A,z0,mu,tol,nmax)[0]\n",
    "    condNu = lmax/lmin\n",
    "    \n",
    "    return condNu\n",
    "\n",
    "print(\"Condition Number we calculate:\", condNumb(A))\n",
    "print(\"Condition Number from Numpy:\", np.linalg.cond(A))"
   ]
  },
  {
   "cell_type": "markdown",
   "id": "2728b49a",
   "metadata": {
    "id": "2728b49a"
   },
   "source": [
    "Implement a preconditioned Conjugant Gradient method to solve the original linear system of equations using an iterative method:"
   ]
  },
  {
   "cell_type": "code",
   "execution_count": 15,
   "id": "60dfc640-2639-4e11-9087-50591cef7b60",
   "metadata": {
    "id": "62b83aee"
   },
   "outputs": [],
   "source": [
    "def conjugate_gradient(A, b, P, nmax=len(A), eps=1e-11):\n",
    "    N = len(A)\n",
    "    x = np.zeros_like(b)\n",
    "    r = b - np.dot(A,x)\n",
    "    rho_old = 1.\n",
    "    p_old = np.zeros_like(b)\n",
    "    tol = eps + 1.0\n",
    "    it = 0\n",
    "    \n",
    "    while (it < nmax and tol > eps):\n",
    "        it += 1\n",
    "        z = np.linalg.solve(P,r)\n",
    "        rho = np.dot(r,z)\n",
    "        if (it > 1):\n",
    "            beta = rho/rho_old\n",
    "            p = z + beta*p_old\n",
    "        else:\n",
    "            p = z\n",
    "        \n",
    "        q = np.dot(A,p)\n",
    "        alpha = rho/np.dot(p,q)\n",
    "        \n",
    "        x += p*alpha\n",
    "        r -= q*alpha\n",
    "        p_old = p\n",
    "        rho_old = rho\n",
    "        tol = np.linalg.norm(r,2)\n",
    "\n",
    "    #print(it,tol)\n",
    "\n",
    "    return x"
   ]
  },
  {
   "cell_type": "code",
   "execution_count": 16,
   "id": "c6ef1ff6-ae0d-4105-a30f-7e46ffc42674",
   "metadata": {
    "id": "62b83aee"
   },
   "outputs": [
    {
     "name": "stdout",
     "output_type": "stream",
     "text": [
      "Maximum error (numpy): 2.5646151868841116e-14\n",
      "Maximum error (analytical): 0.0024541617562779117\n"
     ]
    },
    {
     "data": {
      "image/png": "[encoded data removed]",
      "text/plain": [
       "<Figure size 432x288 with 1 Axes>"
      ]
     },
     "metadata": {
      "needs_background": "light"
     },
     "output_type": "display_data"
    }
   ],
   "source": [
    "# Verifying Conjugate Gradient solution\n",
    "xx = np.linspace(omega[0], omega[1], n)\n",
    "u_ex = np.sin(xx)\n",
    "u_cg = conjugate_gradient(A, b, np.diag(np.diag(A)))\n",
    "\n",
    "plt.title(\"Conjugate Gradient Solution\")\n",
    "_ = plt.plot(xx,u_cg,'yo',label='estimated solution')\n",
    "_ = plt.plot(xx,u_ex, 'r.',label='exact solution')\n",
    "_ = plt.plot(xx,u_numpy, 'b',label='numpy solution')\n",
    "plt.legend()\n",
    "\n",
    "print(\"Maximum error (numpy):\", max(abs(u-u_numpy)))\n",
    "print(\"Maximum error (analytical):\", max(abs(u-u_ex)))"
   ]
  },
  {
   "cell_type": "markdown",
   "id": "8a4cfc02",
   "metadata": {
    "id": "8a4cfc02"
   },
   "source": [
    "Consider the following time dependent variation of the PDE starting from the orginal problem formulation:\n",
    "$$\n",
    "u'(t)-u_{xx} = \\alpha(t)f(x)\n",
    "$$\n",
    "\n",
    "for $t\\in [0,T]$, with $\\alpha(t) = \\cos(t)$ and $T = 6\\pi$\n",
    "\n",
    "Use the same finite difference scheme to derive the semi-discrete formulation and solve it using a forward Euler's method.\n",
    "\n",
    "Plot the time dependent solution solution at $x = \\pi/2$, $x=1$, \n",
    "$x=\\pi$\n"
   ]
  },
  {
   "cell_type": "code",
   "execution_count": 17,
   "id": "6ec202e9-0836-419c-8e8b-167163c19d00",
   "metadata": {
    "id": "3ffe0689"
   },
   "outputs": [],
   "source": [
    "# Forward Euler Method Function\n",
    "def fe(A,b,l,y0,t0,tf,h):\n",
    "    timesteps = np.arange(t0,tf+1e-10,h)\n",
    "    t = timesteps\n",
    "    sol = np.zeros((len(t), len(y0)))\n",
    "    sol[0,:] = y0\n",
    "    \n",
    "    for i in range(1,len(t)):\n",
    "        u_xx = -np.dot(A,sol[i-1])     \n",
    "        l_b = np.dot(l(t[i-1]),b)       \n",
    "        sol[i] = sol[i-1] + h*u_xx + h*l_b\n",
    "    \n",
    "    return sol, timesteps"
   ]
  },
  {
   "cell_type": "code",
   "execution_count": 18,
   "id": "f16e7245-04cf-4744-8156-97e9ea6aa765",
   "metadata": {
    "id": "3ffe0689"
   },
   "outputs": [],
   "source": [
    "t0 = 0\n",
    "tf = 6*np.pi\n",
    "alpha = lambda x: np.cos(x)\n",
    "\n",
    "omega = [0,np.pi] # reusing original omega\n",
    "n=100 # reusing original n\n",
    "\n",
    "# inv of max eigenvalue is taken as a step\n",
    "tol = 1e-7\n",
    "nmax = 13000\n",
    "xx = np.linspace(omega[0], omega[1], n)\n",
    "eigenvalue_max,_ = PM(A,np.ones_like(xx),tol,nmax) \n",
    "h = 1/(eigenvalue_max)"
   ]
  },
  {
   "cell_type": "code",
   "execution_count": 19,
   "id": "cd10c7b5-db84-4334-8156-f6919d6ec6e5",
   "metadata": {
    "id": "3ffe0689"
   },
   "outputs": [
    {
     "data": {
      "image/png": "[encoded data removed]",
      "text/plain": [
       "<Figure size 432x288 with 1 Axes>"
      ]
     },
     "metadata": {
      "needs_background": "light"
     },
     "output_type": "display_data"
    }
   ],
   "source": [
    "# Initial condition: y0 = sin(x)\n",
    "y0 = np.sin(xx)\n",
    "sol,t = fe(A,b,alpha,y0,t0,tf,h)\n",
    "\n",
    "width = omega[1] - omega[0]\n",
    "x_pi_2 = int(np.floor(n/width * np.pi/2.) - 1)\n",
    "x_one = int(np.floor((n/width) - 1))\n",
    "x_pi = int(np.floor((n/width *np.pi)) - 1)\n",
    "\n",
    "plt.title(\"Initial condition: y0 = sin(x)\")\n",
    "plt.plot(t, sol[:,x_one], label='x=1')\n",
    "plt.plot(t, sol[:,x_pi_2], label='x=π/2')\n",
    "plt.plot(t, sol[:,x_pi], label='x=π')\n",
    "plt.legend()\n",
    "plt.show()"
   ]
  },
  {
   "cell_type": "code",
   "execution_count": 20,
   "id": "8c62e1cd-3758-4246-b89b-3655a0cbfcd5",
   "metadata": {
    "id": "3ffe0689"
   },
   "outputs": [
    {
     "data": {
      "image/png": "[encoded data removed]",
      "text/plain": [
       "<Figure size 432x288 with 1 Axes>"
      ]
     },
     "metadata": {
      "needs_background": "light"
     },
     "output_type": "display_data"
    }
   ],
   "source": [
    "# Initial condition: y0 = 0\n",
    "y0 = np.zeros((n,))\n",
    "sol, t = fe(A,b,alpha,y0,t0,tf,h)\n",
    "\n",
    "width = omega[1] - omega[0]\n",
    "x_pi_2 = int(np.floor(n/width * np.pi/2.) - 1)\n",
    "x_one = int(np.floor((n/width) - 1))\n",
    "x_pi = int(np.floor((n/width *np.pi)) - 1)\n",
    "\n",
    "plt.title(\"Initial condition: y0 = 0\")\n",
    "plt.plot(t, sol[:,x_one], label='x=1')\n",
    "plt.plot(t, sol[:,x_pi_2], label='x=π/2')\n",
    "plt.plot(t, sol[:,x_pi], label='x=π')\n",
    "plt.legend()\n",
    "plt.show()"
   ]
  },
  {
   "cell_type": "markdown",
   "id": "36936121",
   "metadata": {
    "id": "36936121"
   },
   "source": [
    "Given the original $Au = b$ system, implement an algorithm to compute the eigenvalues and eigenvectors of the matrix $A$. Exploit the computed LU factorization"
   ]
  },
  {
   "cell_type": "code",
   "execution_count": 21,
   "id": "195097b1-e71b-448b-90a4-de986cb6a394",
   "metadata": {
    "id": "622aadf4"
   },
   "outputs": [],
   "source": [
    "def eigenvalue_LU(A,tol,nmax):\n",
    "    B = A.copy()\n",
    "    eigval_old = np.diag(B)\n",
    "    err = tol+1.0\n",
    "    it = 0\n",
    "    \n",
    "    while it < nmax and err > tol:\n",
    "        L,U = LU(B)\n",
    "        B = U@L\n",
    "        eigval_new = np.diag(B)  \n",
    "        err = np.linalg.norm(eigval_new - eigval_old,2)\n",
    "        it += 1\n",
    "        eigval_old = eigval_new\n",
    "        \n",
    "    return eigval_new\n",
    "\n",
    "def eigenvector_LU(A,eigval,tol,nmax,nmax_ipm):\n",
    "    eigvec = np.zeros_like(A)\n",
    "    eigval_new = np.zeros_like(eigval)\n",
    "    q = np.random.rand(A.shape[0])\n",
    "\n",
    "    for i in range(len(eigval)):\n",
    "        eigval_val, eigvec_val = IPM(A,q,eigval[i]+tol,tol,nmax_ipm)\n",
    "        eigval_new[i] = eigval_val\n",
    "        eigvec[:,i] = eigvec_val\n",
    "         \n",
    "    return eigval_new, eigvec\n",
    "\n",
    "nmax = 2300\n",
    "nmax_ipm = 13000\n",
    "tol = 1e-7\n",
    "eigenvalues = eigenvalue_LU(A,tol,nmax)\n",
    "eigvals_new, eigenvectors = eigenvector_LU(A,eigenvalues,tol,nmax,nmax_ipm)"
   ]
  },
  {
   "cell_type": "code",
   "execution_count": 22,
   "id": "f84ff937-9054-44c7-9cdc-d264ea3ce33d",
   "metadata": {
    "id": "622aadf4"
   },
   "outputs": [
    {
     "name": "stdout",
     "output_type": "stream",
     "text": [
      "Mean Eigenvalue Error = 1.5101853101384678e-12\n",
      "Mean Eigenvector Norm Error = 1.414213597640233\n"
     ]
    }
   ],
   "source": [
    "# Compare with Numpy\n",
    "eval_np, evec_np = np.linalg.eig(A)\n",
    "print(\"Mean Eigenvalue Error =\", abs(np.mean(eval_np-eigenvalues)))\n",
    "\n",
    "evec_err = np.zeros_like(eval_np)\n",
    "for i in range(len(eval_np)):\n",
    "    evec_err[i] = np.linalg.norm((eigenvectors[:,i] - evec_np[:,i]), 2)\n",
    "\n",
    "print(\"Mean Eigenvector Norm Error =\", abs(np.mean(evec_err)))"
   ]
  },
  {
   "cell_type": "markdown",
   "id": "85d5f64e",
   "metadata": {
    "id": "85d5f64e"
   },
   "source": [
    "Compute the inverse of the matrix A exploiting the derived LU factorization"
   ]
  },
  {
   "cell_type": "code",
   "execution_count": 23,
   "id": "6ad7199f",
   "metadata": {
    "id": "6ad7199f"
   },
   "outputs": [
    {
     "name": "stdout",
     "output_type": "stream",
     "text": [
      "Maximum error in comparison to numpy: 1.2836953722228372e-15\n"
     ]
    }
   ],
   "source": [
    "def inverse_matrix_LU(A):\n",
    "    L,U = LU(A)\n",
    "    N = len(A)\n",
    "    A_inv = np.zeros_like(A)\n",
    "    I = np.identity(A.shape[0])\n",
    "    \n",
    "    for i in range(N):\n",
    "        q = L_solve(L,I[:,i])\n",
    "        A_inv_i = U_solve(U,q)\n",
    "        A_inv[:,i] = A_inv_i\n",
    "    \n",
    "    return A_inv\n",
    "\n",
    "# Compare inverse to that computed by Numpy\n",
    "A_inv_LU = inverse_matrix_LU(A)\n",
    "A_inv_numpy = np.linalg.inv(A)\n",
    "print(\"Maximum error in comparison to numpy:\", max(np.abs(A_inv_LU - A_inv_numpy).max(axis=0)))"
   ]
  },
  {
   "cell_type": "markdown",
   "id": "cb22566e",
   "metadata": {
    "id": "cb22566e"
   },
   "source": [
    "Consider the following Cauchy problem\n",
    "$$\n",
    "\\begin{cases}\n",
    "y'= -ty^2 \\quad 0\\le t \\le 2\\\\\n",
    "y(0) = 1\n",
    "\\end{cases}\n",
    "$$\n",
    "Implement a Backward Euler's method in a suitable function and solve the resulting non-linear equation using a Newton's method."
   ]
  },
  {
   "cell_type": "code",
   "execution_count": 24,
   "id": "211a5127-bf80-45b1-ba7f-429561373e1b",
   "metadata": {
    "id": "3184e358"
   },
   "outputs": [],
   "source": [
    "# Newton's Method function\n",
    "def newton(f,f_prime,x0,eps,n_max):\n",
    "    assert np.abs(f_prime(x0)) > 1e-16\n",
    "    err = np.abs(f(x0))\n",
    "    errors = [err]\n",
    "    it = 0\n",
    "    x = x0\n",
    "    \n",
    "    while (err > eps and it < n_max):\n",
    "        qk = f_prime(x)\n",
    "        if np.abs(qk) < 1e-12:\n",
    "            raise RuntimeError(\"f_prime(x) is close to zero\")\n",
    "        \n",
    "        x_new = x - f(x)/qk \n",
    "        err = np.abs(f(x_new))\n",
    "        \n",
    "        x = x_new\n",
    "        errors.append(err)\n",
    "        it += 1\n",
    "            \n",
    "        #plt.semilogy(errors)\n",
    "\n",
    "    return x, errors"
   ]
  },
  {
   "cell_type": "code",
   "execution_count": 25,
   "id": "2209bac8-63eb-4078-bd29-c41790b272dc",
   "metadata": {
    "id": "3184e358"
   },
   "outputs": [],
   "source": [
    "# Backward Euler Method Function\n",
    "def be(y0,t0,tf,h):\n",
    "    timesteps = np.arange(t0, tf+1e-10, h)\n",
    "    t = timesteps\n",
    "    sol = np.zeros_like(timesteps)\n",
    "    sol[0] = y0\n",
    "    eps = 1e-5\n",
    "    n_max = 1000\n",
    "    \n",
    "    for i in range(1, len(sol)):\n",
    "        f = lambda y: t[i]*h*y**2 + y - sol[i-1]\n",
    "        df = lambda y: 2*t[i]*h*y + 1\n",
    "        sol[i],_ = newton(f, df, sol[i-1], eps, n_max)\n",
    "\n",
    "    return sol, timesteps"
   ]
  },
  {
   "cell_type": "code",
   "execution_count": 26,
   "id": "7ca33ca9-46a6-43b6-8392-115e144b7b75",
   "metadata": {
    "id": "3184e358"
   },
   "outputs": [
    {
     "data": {
      "text/plain": [
       "<matplotlib.legend.Legend at 0x7f6e42a554f0>"
      ]
     },
     "execution_count": 26,
     "metadata": {},
     "output_type": "execute_result"
    },
    {
     "data": {
      "image/png": "[encoded data removed]",
      "text/plain": [
       "<Figure size 432x288 with 1 Axes>"
      ]
     },
     "metadata": {
      "needs_background": "light"
     },
     "output_type": "display_data"
    }
   ],
   "source": [
    "# Plot solution of Cauchy Problem\n",
    "\n",
    "t0 = 0.0\n",
    "tf = 2.0\n",
    "y0 = 1.0\n",
    "\n",
    "y,t = be(y0, t0, tf, 0.05)\n",
    "y_ex = 2.0/(t*t + 2.0)\n",
    "\n",
    "plt.title(\"Solution using Newton's Method and Backward Euler\")\n",
    "_ = plt.plot(t, y, 'g', label='estimated solution')\n",
    "_ = plt.plot(t, y_ex, 'r*', label='exact solution')\n",
    "plt.legend()"
   ]
  }
 ],
 "metadata": {
  "colab": {
   "name": "FinalProject-2021-2022.ipynb",
   "provenance": []
  },
  "kernelspec": {
   "display_name": "Python 3",
   "language": "python",
   "name": "python3"
  },
  "language_info": {
   "codemirror_mode": {
    "name": "ipython",
    "version": 3
   },
   "file_extension": ".py",
   "mimetype": "text/x-python",
   "name": "python",
   "nbconvert_exporter": "python",
   "pygments_lexer": "ipython3",
   "version": "3.8.8"
  }
 },
 "nbformat": 4,
 "nbformat_minor": 5
}
